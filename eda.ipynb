{
 "cells": [
  {
   "cell_type": "markdown",
   "metadata": {},
   "source": [
    "# Security Breaches 2004 - 2017\n",
    "\n",
    "This report analysis of security breaches between the year of 2004 to 2017 will address at what rate are organizations and sectors hacked and under what cause.\n",
    "\n",
    "Historical data is stored on Kaggle: [Data Breaches 2004-2017 (EN)](https://www.kaggle.com/estratic/data-breaches-2004-2017-en-20180218?select=Data_Breaches_EN_V2_2004_2017_20180220.csv)\n",
    "\n",
    "Acknowlegdement to Charles E. Jimenez-Gomez for collecting the data.\n",
    "\n",
    "##### see README file for data dictionay"
   ]
  },
  {
   "cell_type": "markdown",
   "metadata": {},
   "source": [
    "### Import Pandas & Plotting"
   ]
  },
  {
   "cell_type": "code",
   "execution_count": 1,
   "metadata": {},
   "outputs": [],
   "source": [
    "import pandas as pd\n",
    "import matplotlib.pyplot as plt\n",
    "import numpy as np"
   ]
  },
  {
   "cell_type": "markdown",
   "metadata": {},
   "source": [
    "### Read Datafile"
   ]
  },
  {
   "cell_type": "code",
   "execution_count": 2,
   "metadata": {},
   "outputs": [
    {
     "data": {
      "text/plain": [
       "(270, 11)"
      ]
     },
     "execution_count": 2,
     "metadata": {},
     "output_type": "execute_result"
    }
   ],
   "source": [
    "#Semicolon is the default seperator in the csv\n",
    "data = pd.read_csv('Data_Breaches.csv', sep=\";\")\n",
    "data.shape"
   ]
  },
  {
   "cell_type": "markdown",
   "metadata": {},
   "source": [
    "### Basic Statistics on the Data Set\n",
    "\n",
    "There are 270 well known entities including unique factors based on 11 statistics collected.\n",
    "\n",
    "All the data are string and integer point values. This includes the date's and link's. "
   ]
  },
  {
   "cell_type": "code",
   "execution_count": 3,
   "metadata": {},
   "outputs": [
    {
     "data": {
      "text/plain": [
       "(270, 11)"
      ]
     },
     "execution_count": 3,
     "metadata": {},
     "output_type": "execute_result"
    }
   ],
   "source": [
    "data.shape"
   ]
  },
  {
   "cell_type": "code",
   "execution_count": 4,
   "metadata": {},
   "outputs": [
    {
     "data": {
      "text/html": [
       "<div>\n",
       "<style scoped>\n",
       "    .dataframe tbody tr th:only-of-type {\n",
       "        vertical-align: middle;\n",
       "    }\n",
       "\n",
       "    .dataframe tbody tr th {\n",
       "        vertical-align: top;\n",
       "    }\n",
       "\n",
       "    .dataframe thead th {\n",
       "        text-align: right;\n",
       "    }\n",
       "</style>\n",
       "<table border=\"1\" class=\"dataframe\">\n",
       "  <thead>\n",
       "    <tr style=\"text-align: right;\">\n",
       "      <th></th>\n",
       "      <th>DataTypes</th>\n",
       "    </tr>\n",
       "  </thead>\n",
       "  <tbody>\n",
       "    <tr>\n",
       "      <th>Entity</th>\n",
       "      <td>object</td>\n",
       "    </tr>\n",
       "    <tr>\n",
       "      <th>Alternative Name</th>\n",
       "      <td>object</td>\n",
       "    </tr>\n",
       "    <tr>\n",
       "      <th>Story</th>\n",
       "      <td>object</td>\n",
       "    </tr>\n",
       "    <tr>\n",
       "      <th>Year</th>\n",
       "      <td>int64</td>\n",
       "    </tr>\n",
       "    <tr>\n",
       "      <th>Records Lost</th>\n",
       "      <td>object</td>\n",
       "    </tr>\n",
       "    <tr>\n",
       "      <th>Sector</th>\n",
       "      <td>object</td>\n",
       "    </tr>\n",
       "    <tr>\n",
       "      <th>Method of Leak</th>\n",
       "      <td>object</td>\n",
       "    </tr>\n",
       "    <tr>\n",
       "      <th>1st source</th>\n",
       "      <td>object</td>\n",
       "    </tr>\n",
       "    <tr>\n",
       "      <th>2nd source</th>\n",
       "      <td>object</td>\n",
       "    </tr>\n",
       "    <tr>\n",
       "      <th>3rd source</th>\n",
       "      <td>object</td>\n",
       "    </tr>\n",
       "    <tr>\n",
       "      <th>Source name</th>\n",
       "      <td>object</td>\n",
       "    </tr>\n",
       "  </tbody>\n",
       "</table>\n",
       "</div>"
      ],
      "text/plain": [
       "                 DataTypes\n",
       "Entity              object\n",
       "Alternative Name    object\n",
       "Story               object\n",
       "Year                 int64\n",
       "Records Lost        object\n",
       "Sector              object\n",
       "Method of Leak      object\n",
       "1st source          object\n",
       "2nd source          object\n",
       "3rd source          object\n",
       "Source name         object"
      ]
     },
     "execution_count": 4,
     "metadata": {},
     "output_type": "execute_result"
    }
   ],
   "source": [
    "pd.DataFrame(data.dtypes, columns = ['DataTypes'])"
   ]
  },
  {
   "cell_type": "markdown",
   "metadata": {},
   "source": [
    "### Analysis of Data Quality\n",
    "\n",
    "Checking the begining and end of the data set:"
   ]
  },
  {
   "cell_type": "code",
   "execution_count": 5,
   "metadata": {},
   "outputs": [
    {
     "data": {
      "text/html": [
       "<div>\n",
       "<style scoped>\n",
       "    .dataframe tbody tr th:only-of-type {\n",
       "        vertical-align: middle;\n",
       "    }\n",
       "\n",
       "    .dataframe tbody tr th {\n",
       "        vertical-align: top;\n",
       "    }\n",
       "\n",
       "    .dataframe thead th {\n",
       "        text-align: right;\n",
       "    }\n",
       "</style>\n",
       "<table border=\"1\" class=\"dataframe\">\n",
       "  <thead>\n",
       "    <tr style=\"text-align: right;\">\n",
       "      <th></th>\n",
       "      <th>Entity</th>\n",
       "      <th>Alternative Name</th>\n",
       "      <th>Story</th>\n",
       "      <th>Year</th>\n",
       "      <th>Records Lost</th>\n",
       "      <th>Sector</th>\n",
       "      <th>Method of Leak</th>\n",
       "      <th>1st source</th>\n",
       "      <th>2nd source</th>\n",
       "      <th>3rd source</th>\n",
       "      <th>Source name</th>\n",
       "    </tr>\n",
       "  </thead>\n",
       "  <tbody>\n",
       "    <tr>\n",
       "      <th>0</th>\n",
       "      <td>River City Media</td>\n",
       "      <td>Spam operator</td>\n",
       "      <td>A dodgy backup has allegedly resulted in over ...</td>\n",
       "      <td>2017</td>\n",
       "      <td>1,37e+09</td>\n",
       "      <td>Web</td>\n",
       "      <td>Accidentally published</td>\n",
       "      <td>https://betanews.com/2017/03/06/river-city-med...</td>\n",
       "      <td>NaN</td>\n",
       "      <td>NaN</td>\n",
       "      <td>Beta News</td>\n",
       "    </tr>\n",
       "    <tr>\n",
       "      <th>1</th>\n",
       "      <td>Unique Identification Authority of India</td>\n",
       "      <td>Aadhaar data base</td>\n",
       "      <td>A report says that full data base has been exp...</td>\n",
       "      <td>2017</td>\n",
       "      <td>1e+09</td>\n",
       "      <td>Government</td>\n",
       "      <td>Poor security</td>\n",
       "      <td>http://www.tribuneindia.com/news/nation/rs-500...</td>\n",
       "      <td>http://www.livemint.com/Opinion/MUPJK28VMeoICz...</td>\n",
       "      <td>NaN</td>\n",
       "      <td>NaN</td>\n",
       "    </tr>\n",
       "    <tr>\n",
       "      <th>2</th>\n",
       "      <td>Spambot</td>\n",
       "      <td>NaN</td>\n",
       "      <td>A misconfigured spambot has leaked over 700m r...</td>\n",
       "      <td>2017</td>\n",
       "      <td>7,11e+08</td>\n",
       "      <td>Web</td>\n",
       "      <td>Poor security</td>\n",
       "      <td>https://www.theguardian.com/technology/2017/au...</td>\n",
       "      <td>NaN</td>\n",
       "      <td>NaN</td>\n",
       "      <td>The Guardian</td>\n",
       "    </tr>\n",
       "  </tbody>\n",
       "</table>\n",
       "</div>"
      ],
      "text/plain": [
       "                                     Entity   Alternative Name  \\\n",
       "0                          River City Media      Spam operator   \n",
       "1  Unique Identification Authority of India  Aadhaar data base   \n",
       "2                                   Spambot                NaN   \n",
       "\n",
       "                                               Story  Year Records Lost  \\\n",
       "0  A dodgy backup has allegedly resulted in over ...  2017     1,37e+09   \n",
       "1  A report says that full data base has been exp...  2017        1e+09   \n",
       "2  A misconfigured spambot has leaked over 700m r...  2017     7,11e+08   \n",
       "\n",
       "       Sector          Method of Leak  \\\n",
       "0         Web  Accidentally published   \n",
       "1  Government           Poor security   \n",
       "2         Web           Poor security   \n",
       "\n",
       "                                          1st source  \\\n",
       "0  https://betanews.com/2017/03/06/river-city-med...   \n",
       "1  http://www.tribuneindia.com/news/nation/rs-500...   \n",
       "2  https://www.theguardian.com/technology/2017/au...   \n",
       "\n",
       "                                          2nd source 3rd source   Source name  \n",
       "0                                                NaN        NaN     Beta News  \n",
       "1  http://www.livemint.com/Opinion/MUPJK28VMeoICz...        NaN           NaN  \n",
       "2                                                NaN        NaN  The Guardian  "
      ]
     },
     "execution_count": 5,
     "metadata": {},
     "output_type": "execute_result"
    }
   ],
   "source": [
    "data.head(3)"
   ]
  },
  {
   "cell_type": "code",
   "execution_count": 6,
   "metadata": {},
   "outputs": [
    {
     "data": {
      "text/html": [
       "<div>\n",
       "<style scoped>\n",
       "    .dataframe tbody tr th:only-of-type {\n",
       "        vertical-align: middle;\n",
       "    }\n",
       "\n",
       "    .dataframe tbody tr th {\n",
       "        vertical-align: top;\n",
       "    }\n",
       "\n",
       "    .dataframe thead th {\n",
       "        text-align: right;\n",
       "    }\n",
       "</style>\n",
       "<table border=\"1\" class=\"dataframe\">\n",
       "  <thead>\n",
       "    <tr style=\"text-align: right;\">\n",
       "      <th></th>\n",
       "      <th>Entity</th>\n",
       "      <th>Alternative Name</th>\n",
       "      <th>Story</th>\n",
       "      <th>Year</th>\n",
       "      <th>Records Lost</th>\n",
       "      <th>Sector</th>\n",
       "      <th>Method of Leak</th>\n",
       "      <th>1st source</th>\n",
       "      <th>2nd source</th>\n",
       "      <th>3rd source</th>\n",
       "      <th>Source name</th>\n",
       "    </tr>\n",
       "  </thead>\n",
       "  <tbody>\n",
       "    <tr>\n",
       "      <th>267</th>\n",
       "      <td>Ameritrade Inc.</td>\n",
       "      <td>Online broker</td>\n",
       "      <td>Computer backup tape containing personal infor...</td>\n",
       "      <td>2005</td>\n",
       "      <td>2e+05</td>\n",
       "      <td>Financial</td>\n",
       "      <td>Lost / stolen device or media</td>\n",
       "      <td>http://www.nbcnews.com/id/7561268/</td>\n",
       "      <td>NaN</td>\n",
       "      <td>NaN</td>\n",
       "      <td>NBC</td>\n",
       "    </tr>\n",
       "    <tr>\n",
       "      <th>268</th>\n",
       "      <td>Automatic Data Processing</td>\n",
       "      <td>Business outsourcing, payrolls, benefits</td>\n",
       "      <td>NaN</td>\n",
       "      <td>2005</td>\n",
       "      <td>125000</td>\n",
       "      <td>Financial</td>\n",
       "      <td>Poor security</td>\n",
       "      <td>http://abcnews.go.com/Technology/story?id=2160...</td>\n",
       "      <td>NaN</td>\n",
       "      <td>NaN</td>\n",
       "      <td>ABC</td>\n",
       "    </tr>\n",
       "    <tr>\n",
       "      <th>269</th>\n",
       "      <td>AOL</td>\n",
       "      <td>American Online</td>\n",
       "      <td>A former America Online software engineer stol...</td>\n",
       "      <td>2004</td>\n",
       "      <td>9,2e+07</td>\n",
       "      <td>Web</td>\n",
       "      <td>Inside job</td>\n",
       "      <td>http://money.cnn.com/2004/06/23/technology/aol...</td>\n",
       "      <td>http://www.msnbc.msn.com/id/8985989/#.UFcN8RgUwaA</td>\n",
       "      <td>NaN</td>\n",
       "      <td>CNN</td>\n",
       "    </tr>\n",
       "  </tbody>\n",
       "</table>\n",
       "</div>"
      ],
      "text/plain": [
       "                        Entity                          Alternative Name  \\\n",
       "267            Ameritrade Inc.                             Online broker   \n",
       "268  Automatic Data Processing  Business outsourcing, payrolls, benefits   \n",
       "269                        AOL                           American Online   \n",
       "\n",
       "                                                 Story  Year Records Lost  \\\n",
       "267  Computer backup tape containing personal infor...  2005        2e+05   \n",
       "268                                                NaN  2005       125000   \n",
       "269  A former America Online software engineer stol...  2004      9,2e+07   \n",
       "\n",
       "        Sector                 Method of Leak  \\\n",
       "267  Financial  Lost / stolen device or media   \n",
       "268  Financial                  Poor security   \n",
       "269        Web                     Inside job   \n",
       "\n",
       "                                            1st source  \\\n",
       "267                 http://www.nbcnews.com/id/7561268/   \n",
       "268  http://abcnews.go.com/Technology/story?id=2160...   \n",
       "269  http://money.cnn.com/2004/06/23/technology/aol...   \n",
       "\n",
       "                                            2nd source 3rd source Source name  \n",
       "267                                                NaN        NaN         NBC  \n",
       "268                                                NaN        NaN         ABC  \n",
       "269  http://www.msnbc.msn.com/id/8985989/#.UFcN8RgUwaA        NaN         CNN  "
      ]
     },
     "execution_count": 6,
     "metadata": {},
     "output_type": "execute_result"
    }
   ],
   "source": [
    "data.tail(3)"
   ]
  },
  {
   "cell_type": "markdown",
   "metadata": {},
   "source": [
    "### Basic Analysis of the Data\n",
    "\n",
    "There are empty and NaN values found in the data:\n",
    "    \n",
    "    1. Some entities do not have an alternative names. No need to be redundent.\n",
    "    \n",
    "    2. Some entities do not have a story. No story doesn't address the question of why it happened!\n",
    "    \n",
    "    3. Some entities are missing a 2nd and 3rd resource.\n",
    "    \n",
    "Presumibly the data collection may have been incomplete."
   ]
  },
  {
   "cell_type": "markdown",
   "metadata": {},
   "source": [
    "### Cleaning the Data\n",
    "\n",
    "#### Strategy\n",
    "\n",
    "Create a subset of data with complete collection of statistics and analysis:\n",
    "\n",
    "    1. Eliminate the alernative name column.\n",
    "    \n",
    "    2. Merge the 1st, 2nd, and 3rd source column into one and name it sources. No need to be redundent.\n",
    "    \n",
    "    3. Eliminate the row of entities with no story. It's not relevant without a story. \n",
    "\n",
    "The goal is to remove empty and NaN values that will not be used in the analysis. Then save the data in a new csv.\n",
    "  "
   ]
  },
  {
   "cell_type": "markdown",
   "metadata": {},
   "source": [
    "### Dropping the Alternative Name Column"
   ]
  },
  {
   "cell_type": "code",
   "execution_count": 7,
   "metadata": {},
   "outputs": [],
   "source": [
    "data.drop('Alternative Name', axis=1, inplace = True )"
   ]
  },
  {
   "cell_type": "markdown",
   "metadata": {},
   "source": [
    "### Combined 1st, 2nd, and 3rd source columns into one and named it sources"
   ]
  },
  {
   "cell_type": "code",
   "execution_count": 8,
   "metadata": {},
   "outputs": [],
   "source": [
    "data['Sources']=data['1st source'].astype(str)+','+data['2nd source'].astype(str)+','+data['3rd source'].astype(str)\n",
    "data.drop(['1st source','2nd source','3rd source'], axis=1, inplace = True)"
   ]
  },
  {
   "cell_type": "markdown",
   "metadata": {},
   "source": [
    "### Drops all the rows with NaN vaules"
   ]
  },
  {
   "cell_type": "code",
   "execution_count": 9,
   "metadata": {},
   "outputs": [],
   "source": [
    "data.dropna(inplace=True)"
   ]
  },
  {
   "cell_type": "markdown",
   "metadata": {},
   "source": [
    "### Verifying the results of the refactor"
   ]
  },
  {
   "cell_type": "code",
   "execution_count": 10,
   "metadata": {},
   "outputs": [
    {
     "data": {
      "text/html": [
       "<div>\n",
       "<style scoped>\n",
       "    .dataframe tbody tr th:only-of-type {\n",
       "        vertical-align: middle;\n",
       "    }\n",
       "\n",
       "    .dataframe tbody tr th {\n",
       "        vertical-align: top;\n",
       "    }\n",
       "\n",
       "    .dataframe thead th {\n",
       "        text-align: right;\n",
       "    }\n",
       "</style>\n",
       "<table border=\"1\" class=\"dataframe\">\n",
       "  <thead>\n",
       "    <tr style=\"text-align: right;\">\n",
       "      <th></th>\n",
       "      <th>Entity</th>\n",
       "      <th>Story</th>\n",
       "      <th>Year</th>\n",
       "      <th>Records Lost</th>\n",
       "      <th>Sector</th>\n",
       "      <th>Method of Leak</th>\n",
       "      <th>Source name</th>\n",
       "      <th>Sources</th>\n",
       "    </tr>\n",
       "  </thead>\n",
       "  <tbody>\n",
       "    <tr>\n",
       "      <th>0</th>\n",
       "      <td>River City Media</td>\n",
       "      <td>A dodgy backup has allegedly resulted in over ...</td>\n",
       "      <td>2017</td>\n",
       "      <td>1,37e+09</td>\n",
       "      <td>Web</td>\n",
       "      <td>Accidentally published</td>\n",
       "      <td>Beta News</td>\n",
       "      <td>https://betanews.com/2017/03/06/river-city-med...</td>\n",
       "    </tr>\n",
       "    <tr>\n",
       "      <th>2</th>\n",
       "      <td>Spambot</td>\n",
       "      <td>A misconfigured spambot has leaked over 700m r...</td>\n",
       "      <td>2017</td>\n",
       "      <td>7,11e+08</td>\n",
       "      <td>Web</td>\n",
       "      <td>Poor security</td>\n",
       "      <td>The Guardian</td>\n",
       "      <td>https://www.theguardian.com/technology/2017/au...</td>\n",
       "    </tr>\n",
       "    <tr>\n",
       "      <th>3</th>\n",
       "      <td>Friend Finder Network</td>\n",
       "      <td>Usernames, email addresses, passwords for site...</td>\n",
       "      <td>2016</td>\n",
       "      <td>4,12e+08</td>\n",
       "      <td>Web</td>\n",
       "      <td>Hacked</td>\n",
       "      <td>ZDNet / LeakedSource</td>\n",
       "      <td>http://www.zdnet.com/article/adultfriendfinder...</td>\n",
       "    </tr>\n",
       "    <tr>\n",
       "      <th>4</th>\n",
       "      <td>Equifax</td>\n",
       "      <td>If you have a credit report, there’s a good ch...</td>\n",
       "      <td>2017</td>\n",
       "      <td>1,43e+08</td>\n",
       "      <td>Financial</td>\n",
       "      <td>Hacked</td>\n",
       "      <td>UK Gov</td>\n",
       "      <td>https://www.consumer.ftc.gov/blog/2017/09/equi...</td>\n",
       "    </tr>\n",
       "    <tr>\n",
       "      <th>5</th>\n",
       "      <td>Dailymotion</td>\n",
       "      <td>85.2m email addresses extracted, but only 18.3...</td>\n",
       "      <td>2016</td>\n",
       "      <td>85200000</td>\n",
       "      <td>Web</td>\n",
       "      <td>Hacked</td>\n",
       "      <td>ZDNet</td>\n",
       "      <td>http://www.zdnet.com/article/dailymotion-hack-...</td>\n",
       "    </tr>\n",
       "    <tr>\n",
       "      <th>...</th>\n",
       "      <td>...</td>\n",
       "      <td>...</td>\n",
       "      <td>...</td>\n",
       "      <td>...</td>\n",
       "      <td>...</td>\n",
       "      <td>...</td>\n",
       "      <td>...</td>\n",
       "      <td>...</td>\n",
       "    </tr>\n",
       "    <tr>\n",
       "      <th>264</th>\n",
       "      <td>Hewlett Packard</td>\n",
       "      <td>Laptop lost/stolen containing employee data: n...</td>\n",
       "      <td>2006</td>\n",
       "      <td>2e+05</td>\n",
       "      <td>Tech</td>\n",
       "      <td>Lost / stolen device or media</td>\n",
       "      <td>CNET</td>\n",
       "      <td>http://news.cnet.com/Laptop-with-HP-employee-d...</td>\n",
       "    </tr>\n",
       "    <tr>\n",
       "      <th>265</th>\n",
       "      <td>Cardsystems Solutions Inc.</td>\n",
       "      <td>CardSystems was fingered by MasterCard after i...</td>\n",
       "      <td>2005</td>\n",
       "      <td>4e+07</td>\n",
       "      <td>Financial</td>\n",
       "      <td>Hacked</td>\n",
       "      <td>MSNBC</td>\n",
       "      <td>http://www.msnbc.msn.com/id/8260050/ns/technol...</td>\n",
       "    </tr>\n",
       "    <tr>\n",
       "      <th>266</th>\n",
       "      <td>Citigroup</td>\n",
       "      <td>Blame the messenger! A box of computer tapes c...</td>\n",
       "      <td>2005</td>\n",
       "      <td>3900000</td>\n",
       "      <td>Financial</td>\n",
       "      <td>Lost / stolen device or media</td>\n",
       "      <td>NY Times</td>\n",
       "      <td>http://www.nytimes.com/2005/06/07/business/07d...</td>\n",
       "    </tr>\n",
       "    <tr>\n",
       "      <th>267</th>\n",
       "      <td>Ameritrade Inc.</td>\n",
       "      <td>Computer backup tape containing personal infor...</td>\n",
       "      <td>2005</td>\n",
       "      <td>2e+05</td>\n",
       "      <td>Financial</td>\n",
       "      <td>Lost / stolen device or media</td>\n",
       "      <td>NBC</td>\n",
       "      <td>http://www.nbcnews.com/id/7561268/,nan,nan</td>\n",
       "    </tr>\n",
       "    <tr>\n",
       "      <th>269</th>\n",
       "      <td>AOL</td>\n",
       "      <td>A former America Online software engineer stol...</td>\n",
       "      <td>2004</td>\n",
       "      <td>9,2e+07</td>\n",
       "      <td>Web</td>\n",
       "      <td>Inside job</td>\n",
       "      <td>CNN</td>\n",
       "      <td>http://money.cnn.com/2004/06/23/technology/aol...</td>\n",
       "    </tr>\n",
       "  </tbody>\n",
       "</table>\n",
       "<p>238 rows × 8 columns</p>\n",
       "</div>"
      ],
      "text/plain": [
       "                         Entity  \\\n",
       "0              River City Media   \n",
       "2                       Spambot   \n",
       "3         Friend Finder Network   \n",
       "4                       Equifax   \n",
       "5                   Dailymotion   \n",
       "..                          ...   \n",
       "264             Hewlett Packard   \n",
       "265  Cardsystems Solutions Inc.   \n",
       "266                   Citigroup   \n",
       "267             Ameritrade Inc.   \n",
       "269                         AOL   \n",
       "\n",
       "                                                 Story  Year Records Lost  \\\n",
       "0    A dodgy backup has allegedly resulted in over ...  2017     1,37e+09   \n",
       "2    A misconfigured spambot has leaked over 700m r...  2017     7,11e+08   \n",
       "3    Usernames, email addresses, passwords for site...  2016     4,12e+08   \n",
       "4    If you have a credit report, there’s a good ch...  2017     1,43e+08   \n",
       "5    85.2m email addresses extracted, but only 18.3...  2016     85200000   \n",
       "..                                                 ...   ...          ...   \n",
       "264  Laptop lost/stolen containing employee data: n...  2006        2e+05   \n",
       "265  CardSystems was fingered by MasterCard after i...  2005        4e+07   \n",
       "266  Blame the messenger! A box of computer tapes c...  2005      3900000   \n",
       "267  Computer backup tape containing personal infor...  2005        2e+05   \n",
       "269  A former America Online software engineer stol...  2004      9,2e+07   \n",
       "\n",
       "        Sector                 Method of Leak           Source name  \\\n",
       "0          Web         Accidentally published             Beta News   \n",
       "2          Web                  Poor security          The Guardian   \n",
       "3          Web                         Hacked  ZDNet / LeakedSource   \n",
       "4    Financial                         Hacked                UK Gov   \n",
       "5          Web                         Hacked                 ZDNet   \n",
       "..         ...                            ...                   ...   \n",
       "264       Tech  Lost / stolen device or media                  CNET   \n",
       "265  Financial                         Hacked                 MSNBC   \n",
       "266  Financial  Lost / stolen device or media              NY Times   \n",
       "267  Financial  Lost / stolen device or media                   NBC   \n",
       "269        Web                     Inside job                   CNN   \n",
       "\n",
       "                                               Sources  \n",
       "0    https://betanews.com/2017/03/06/river-city-med...  \n",
       "2    https://www.theguardian.com/technology/2017/au...  \n",
       "3    http://www.zdnet.com/article/adultfriendfinder...  \n",
       "4    https://www.consumer.ftc.gov/blog/2017/09/equi...  \n",
       "5    http://www.zdnet.com/article/dailymotion-hack-...  \n",
       "..                                                 ...  \n",
       "264  http://news.cnet.com/Laptop-with-HP-employee-d...  \n",
       "265  http://www.msnbc.msn.com/id/8260050/ns/technol...  \n",
       "266  http://www.nytimes.com/2005/06/07/business/07d...  \n",
       "267         http://www.nbcnews.com/id/7561268/,nan,nan  \n",
       "269  http://money.cnn.com/2004/06/23/technology/aol...  \n",
       "\n",
       "[238 rows x 8 columns]"
      ]
     },
     "execution_count": 10,
     "metadata": {},
     "output_type": "execute_result"
    }
   ],
   "source": [
    "data"
   ]
  },
  {
   "cell_type": "markdown",
   "metadata": {},
   "source": [
    "### Saving the new data into a new csv"
   ]
  },
  {
   "cell_type": "code",
   "execution_count": 11,
   "metadata": {},
   "outputs": [],
   "source": [
    "data.to_csv('Data_Breaches_Cleandata', index = False)"
   ]
  },
  {
   "cell_type": "markdown",
   "metadata": {},
   "source": [
    "### Analysis of the data\n",
    "    "
   ]
  },
  {
   "cell_type": "markdown",
   "metadata": {},
   "source": [
    "##### Security breaches based on sector:"
   ]
  },
  {
   "cell_type": "code",
   "execution_count": 12,
   "metadata": {},
   "outputs": [
    {
     "data": {
      "text/plain": [
       "<matplotlib.axes._subplots.AxesSubplot at 0x7f0e91ebf790>"
      ]
     },
     "execution_count": 12,
     "metadata": {},
     "output_type": "execute_result"
    },
    {
     "data": {
      "image/png": "[encoded data removed]",
      "text/plain": [
       "<Figure size 432x288 with 1 Axes>"
      ]
     },
     "metadata": {
      "needs_background": "light"
     },
     "output_type": "display_data"
    }
   ],
   "source": [
    "data.Sector.value_counts().plot(kind='bar')"
   ]
  },
  {
   "cell_type": "markdown",
   "metadata": {},
   "source": [
    "Here we can see according to the data, companies in the web sector are prone to cyber attacks.\n",
    "\n",
    "    Web companies: Amazon, AOL, Dropbox, Yahoo, etc. \n",
    "\n",
    "    *Could be because these entities conduct business on the world wide web they're more at risk?*\n",
    "\n",
    "It's easy to conclude that cyber actors are highly interested in the Government, Healthcare, and Financial sector's compared to the rest.\n",
    "\n",
    "##### Fun Fact: U.S. government to spend 15 billion on cyber security and then some a year!"
   ]
  },
  {
   "cell_type": "markdown",
   "metadata": {},
   "source": [
    "###### Security breaches based on years:"
   ]
  },
  {
   "cell_type": "code",
   "execution_count": 13,
   "metadata": {
    "scrolled": true
   },
   "outputs": [
    {
     "data": {
      "text/plain": [
       "<matplotlib.axes._subplots.AxesSubplot at 0x7f0e8e80c490>"
      ]
     },
     "execution_count": 13,
     "metadata": {},
     "output_type": "execute_result"
    },
    {
     "data": {
      "image/png": "[encoded data removed]",
      "text/plain": [
       "<Figure size 432x288 with 1 Axes>"
      ]
     },
     "metadata": {
      "needs_background": "light"
     },
     "output_type": "display_data"
    }
   ],
   "source": [
    "data['Year'].plot.hist(orientation='vertical', cumulative=True)"
   ]
  },
  {
   "cell_type": "markdown",
   "metadata": {},
   "source": [
    "According to this histagram these attacks have only increased throughout the years at a rapid pace.\n",
    "    \n",
    "    Why? Internet Accessibility! \n",
    "        *Dail-up > DSL > Fiber > Satellite*\n",
    "        \n",
    "*Evolution of web technology:*\n",
    "    1. VPN's\n",
    "    2. Proxy's\n",
    "    3. Onion Browser\n",
    "    4. Hacking tools:\n",
    "[John the Ripper](https://www.openwall.com/john/)\n",
    "\n",
    "[Wireshark](https://www.wireshark.org/)\n",
    "\n",
    "[Metasploit](https://www.metasploit.com/)\n",
    "\n",
    "[hak5](https://shop.hak5.org/)\n",
    "\n",
    "Not to mention: Free and/or affordable hacking courses.\n",
    "\n",
    "[Hack The Box](https://www.hackthebox.eu/)\n",
    "\n",
    "[TryHackMe](https://tryhackme.com/)\n",
    "\n",
    "##### Fun Fact: The average growth rate for all occupations is 4 percent. Cybersecurity is at 31 percent (Much faster than average)\n"
   ]
  },
  {
   "cell_type": "markdown",
   "metadata": {},
   "source": [
    "##### Who, Why, and Records Lost:"
   ]
  },
  {
   "cell_type": "code",
   "execution_count": 14,
   "metadata": {},
   "outputs": [
    {
     "data": {
      "text/html": [
       "<div>\n",
       "<style scoped>\n",
       "    .dataframe tbody tr th:only-of-type {\n",
       "        vertical-align: middle;\n",
       "    }\n",
       "\n",
       "    .dataframe tbody tr th {\n",
       "        vertical-align: top;\n",
       "    }\n",
       "\n",
       "    .dataframe thead th {\n",
       "        text-align: right;\n",
       "    }\n",
       "</style>\n",
       "<table border=\"1\" class=\"dataframe\">\n",
       "  <thead>\n",
       "    <tr style=\"text-align: right;\">\n",
       "      <th></th>\n",
       "      <th>Entity</th>\n",
       "      <th>Story</th>\n",
       "      <th>Records Lost</th>\n",
       "    </tr>\n",
       "  </thead>\n",
       "  <tbody>\n",
       "    <tr>\n",
       "      <th>0</th>\n",
       "      <td>River City Media</td>\n",
       "      <td>A dodgy backup has allegedly resulted in over ...</td>\n",
       "      <td>1,37e+09</td>\n",
       "    </tr>\n",
       "    <tr>\n",
       "      <th>2</th>\n",
       "      <td>Spambot</td>\n",
       "      <td>A misconfigured spambot has leaked over 700m r...</td>\n",
       "      <td>7,11e+08</td>\n",
       "    </tr>\n",
       "    <tr>\n",
       "      <th>3</th>\n",
       "      <td>Friend Finder Network</td>\n",
       "      <td>Usernames, email addresses, passwords for site...</td>\n",
       "      <td>4,12e+08</td>\n",
       "    </tr>\n",
       "    <tr>\n",
       "      <th>4</th>\n",
       "      <td>Equifax</td>\n",
       "      <td>If you have a credit report, there’s a good ch...</td>\n",
       "      <td>1,43e+08</td>\n",
       "    </tr>\n",
       "    <tr>\n",
       "      <th>5</th>\n",
       "      <td>Dailymotion</td>\n",
       "      <td>85.2m email addresses extracted, but only 18.3...</td>\n",
       "      <td>85200000</td>\n",
       "    </tr>\n",
       "  </tbody>\n",
       "</table>\n",
       "</div>"
      ],
      "text/plain": [
       "                  Entity                                              Story  \\\n",
       "0       River City Media  A dodgy backup has allegedly resulted in over ...   \n",
       "2                Spambot  A misconfigured spambot has leaked over 700m r...   \n",
       "3  Friend Finder Network  Usernames, email addresses, passwords for site...   \n",
       "4                Equifax  If you have a credit report, there’s a good ch...   \n",
       "5            Dailymotion  85.2m email addresses extracted, but only 18.3...   \n",
       "\n",
       "  Records Lost  \n",
       "0     1,37e+09  \n",
       "2     7,11e+08  \n",
       "3     4,12e+08  \n",
       "4     1,43e+08  \n",
       "5     85200000  "
      ]
     },
     "execution_count": 14,
     "metadata": {},
     "output_type": "execute_result"
    }
   ],
   "source": [
    "recordslost = data.head()[['Entity','Story', 'Records Lost']]\\\n",
    "                  .groupby('Records Lost')\n",
    "recordslost.head()"
   ]
  },
  {
   "cell_type": "markdown",
   "metadata": {},
   "source": [
    "\n",
    "\n",
    "##### Fun Facted: Cost of the average data breach to companies worldwide: 3.86 million (U.S. dollars)\n"
   ]
  },
  {
   "cell_type": "markdown",
   "metadata": {},
   "source": [
    "### Conclusions"
   ]
  },
  {
   "cell_type": "markdown",
   "metadata": {},
   "source": [
    "    1. Entities that conduct business on the web are breached more than any other sectors. \n",
    "    \n",
    "    2. Data breached have only increased throughout the years and continue to increase.\n",
    "    \n",
    "##### Fun Fact: Over 80 percent of breaches us stolen and/or weak passwords\n",
    "\n",
    "[HOW SECURE IS MY PASSWORD?](https://howsecureismypassword.net/)\n",
    "\n",
    "[haveibeenpwned](https://haveibeenpwned.com/)"
   ]
  },
  {
   "cell_type": "markdown",
   "metadata": {},
   "source": [
    "### Recommendation for Further Research"
   ]
  },
  {
   "cell_type": "markdown",
   "metadata": {},
   "source": [
    "Data breaches represent threats and vulnerbilities. Regardless the types of breaches are different, the impacts are not always the same. Some companies have risk acceptance. Therefore, my recommendation is to *expand research on monetary loss and number of time they have been hacked.*\n",
    "\n",
    "Also include a column on the type of attack: \n",
    "\n",
    "* Denial-of-service (DoS) and distributed denial-of-service (DDoS) attacks\n",
    "* Man-in-the-middle (MitM) attack\n",
    "* Phishing and spear phishing attacks\n",
    "* Drive-by attack\n",
    "* Password attack\n",
    "* SQL injection attack\n",
    "* Cross-site scripting (XSS) attack\n",
    "* Eavesdropping attack\n",
    "* Birthday attack\n",
    "* Malware attack"
   ]
  }
 ],
 "metadata": {
  "kernelspec": {
   "display_name": "Python 3",
   "language": "python",
   "name": "python3"
  },
  "language_info": {
   "codemirror_mode": {
    "name": "ipython",
    "version": 3
   },
   "file_extension": ".py",
   "mimetype": "text/x-python",
   "name": "python",
   "nbconvert_exporter": "python",
   "pygments_lexer": "ipython3",
   "version": "3.7.6"
  }
 },
 "nbformat": 4,
 "nbformat_minor": 2
}
